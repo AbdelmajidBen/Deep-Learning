{
 "cells": [
  {
   "cell_type": "code",
   "execution_count": 18,
   "metadata": {},
   "outputs": [],
   "source": [
    "import math\n",
    "import random\n",
    "\n",
    "class neuro:\n",
    "    def __init__(self, taille):\n",
    "        self.poids = [random.random() for _ in range(taille)]\n",
    "        self.biais = random.random()\n",
    "        self.sortie = 0\n",
    "\n",
    "    def evalsortie(self, ent):\n",
    "        somme = 0\n",
    "        for i in range(len(self.poids)):\n",
    "            somme += self.poids[i] * ent[i]\n",
    "        somme += self.biais \n",
    "        self.sortie = 1. / (1 + math.exp(-somme))\n",
    "\n",
    "    def ajuster(self, ajustementpoids, tauxappen, ajustementbiais):\n",
    "        for i in range(len(self.poids)):\n",
    "            self.poids[i] += tauxappen * ajustementpoids[i]\n",
    "        self.biais += tauxappen * ajustementbiais\n"
   ]
  },
  {
   "cell_type": "code",
   "execution_count": 20,
   "metadata": {},
   "outputs": [
    {
     "name": "stdout",
     "output_type": "stream",
     "text": [
      "[0.19163112019999717, 0.7850287192626926, 0.4075207164780439, 0.3462083700362505, 0.664476085528442]\n",
      "0.8139066443678503\n"
     ]
    }
   ],
   "source": [
    "neuro1 = neuro(5)\n",
    "print(neuro1.poids)\n",
    "\n",
    "x = [random.random() for _ in range(5)]\n",
    "\n",
    "neuro1.evalsortie(x)\n",
    "\n",
    "print(neuro1.sortie)\n"
   ]
  },
  {
   "cell_type": "code",
   "execution_count": 1,
   "metadata": {},
   "outputs": [],
   "source": [
    "class Couche:\n",
    "    def __init__(self, nbrneuro, nbrpoids):\n",
    "        self.nbrneuro = nbrneuro\n",
    "        self.neuronne = [neuro(nbrpoids) for _ in range(self.nbrneuro)]\n",
    "    \n",
    "    def evalsorties(self, ent):\n",
    "        for n in range(self.nbrneuro):\n",
    "            self.neuronne[n].evalsortie(ent)\n",
    "    \n",
    "    def ajuster(self, ajustementpoids, tauxappen, ajustementbiais):\n",
    "        for n in self.neuronne:\n",
    "            n.ajuster(ajustementpoids, tauxappen, ajustementbiais)\n"
   ]
  },
  {
   "cell_type": "code",
   "execution_count": 5,
   "metadata": {},
   "outputs": [
    {
     "name": "stdout",
     "output_type": "stream",
     "text": [
      "0.8863360254449877\n",
      "0.8672952236808239\n",
      "0.8830289804384136\n",
      "[0.9053214568268205, 0.9994872442733719, 0.7113658595329445, 0.26356672311318313]\n",
      "1.078128754031741\n",
      "[0.8125050599541881, 0.38201007530343667, 0.7392262886824308, 0.218654220159536]\n",
      "1.0626206544778694\n",
      "[0.06598207873469904, 0.8354497434064891, 1.0229125244286126, 0.9366509362746052]\n",
      "1.0470255239588122\n"
     ]
    }
   ],
   "source": [
    "\n",
    "couche = Couche(3, 4)\n",
    "input_values = [0.5, 0.2, 0.8, 0.3]\n",
    "couche.evalsorties(input_values)\n",
    "\n",
    "for neuron in couche.neuronne:\n",
    "    print(neuron.sortie)\n",
    "\n",
    "ajustement_poids = [0.1, 0.2, 0.3, 0.4]\n",
    "taux_appen = 0.5\n",
    "ajustement_biais = 0.2\n",
    "couche.ajuster(ajustement_poids, taux_appen, ajustement_biais)\n",
    "\n",
    "for neuron in couche.neuronne:\n",
    "    print(neuron.poids)\n",
    "    print(neuron.biais)\n"
   ]
  },
  {
   "cell_type": "code",
   "execution_count": 7,
   "metadata": {},
   "outputs": [],
   "source": [
    "class PMC:\n",
    "    def __init__(self,nbrneurone,tauxapprentissage,nbrPoidsentres): #nbr neuro = vecteur comportant le nombre de neurones par couche\n",
    "        self.couches = []\n",
    "        self.couches.append(Couche(nbrneurone[0],nbrPoidsentres))\n",
    "        for i in range(1,len(nbrneurone)):\n",
    "            self.couches.append(Couche(nbrneurone[i],nbrneurone[i-1]))\n",
    "    def propager(self,ent):\n",
    "        for i in range(len(self.couches)):\n",
    "            self.couches[i].evalSortie(ent)"
   ]
  },
  {
   "cell_type": "code",
   "execution_count": null,
   "metadata": {},
   "outputs": [],
   "source": []
  }
 ],
 "metadata": {
  "kernelspec": {
   "display_name": "base",
   "language": "python",
   "name": "python3"
  },
  "language_info": {
   "codemirror_mode": {
    "name": "ipython",
    "version": 3
   },
   "file_extension": ".py",
   "mimetype": "text/x-python",
   "name": "python",
   "nbconvert_exporter": "python",
   "pygments_lexer": "ipython3",
   "version": "3.11.7"
  }
 },
 "nbformat": 4,
 "nbformat_minor": 2
}
