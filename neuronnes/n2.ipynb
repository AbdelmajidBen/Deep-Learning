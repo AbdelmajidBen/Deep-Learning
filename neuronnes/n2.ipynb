{
 "cells": [
  {
   "cell_type": "code",
   "execution_count": 18,
   "metadata": {},
   "outputs": [],
   "source": [
    "import math\n",
    "import random\n",
    "\n",
    "class neuro:\n",
    "    def __init__(self, taille):\n",
    "        self.poids = [random.random() for _ in range(taille)]\n",
    "        self.biais = random.random()\n",
    "        self.sortie = 0\n",
    "\n",
    "    def evalsortie(self, ent):\n",
    "        somme = 0\n",
    "        for i in range(len(self.poids)):\n",
    "            somme += self.poids[i] * ent[i]\n",
    "        somme += self.biais \n",
    "        self.sortie = 1. / (1 + math.exp(-somme))\n",
    "\n",
    "    def ajuster(self, ajustementpoids, tauxappen, ajustementbiais):\n",
    "        for i in range(len(self.poids)):\n",
    "            self.poids[i] += tauxappen * ajustementpoids[i]\n",
    "        self.biais += tauxappen * ajustementbiais\n"
   ]
  },
  {
   "cell_type": "code",
   "execution_count": 20,
   "metadata": {},
   "outputs": [
    {
     "name": "stdout",
     "output_type": "stream",
     "text": [
      "[0.19163112019999717, 0.7850287192626926, 0.4075207164780439, 0.3462083700362505, 0.664476085528442]\n",
      "0.8139066443678503\n"
     ]
    }
   ],
   "source": [
    "neuro1 = neuro(5)\n",
    "print(neuro1.poids)\n",
    "\n",
    "x = [random.random() for _ in range(5)]\n",
    "\n",
    "neuro1.evalsortie(x)\n",
    "\n",
    "print(neuro1.sortie)\n"
   ]
  },
  {
   "cell_type": "code",
   "execution_count": 1,
   "metadata": {},
   "outputs": [],
   "source": [
    "class Couche:\n",
    "    def __init__(self, nbrneuro, nbrpoids):\n",
    "        self.nbrneuro = nbrneuro\n",
    "        self.neuronne = [neuro(nbrpoids) for _ in range(self.nbrneuro)]\n",
    "    \n",
    "    def evalsorties(self, ent):\n",
    "        for n in range(self.nbrneuro):\n",
    "            self.neuronne[n].evalsortie(ent)\n",
    "    \n",
    "    def ajuster(self, ajustementpoids, tauxappen, ajustementbiais):\n",
    "        for n in self.neuronne:\n",
    "            n.ajuster(ajustementpoids, tauxappen, ajustementbiais)\n"
   ]
  },
  {
   "cell_type": "code",
   "execution_count": 8,
   "metadata": {},
   "outputs": [
    {
     "data": {
      "text/plain": [
       "0.5"
      ]
     },
     "execution_count": 8,
     "metadata": {},
     "output_type": "execute_result"
    }
   ],
   "source": []
  },
  {
   "cell_type": "code",
   "execution_count": 9,
   "metadata": {},
   "outputs": [
    {
     "data": {
      "text/plain": [
       "0.5"
      ]
     },
     "execution_count": 9,
     "metadata": {},
     "output_type": "execute_result"
    }
   ],
   "source": []
  },
  {
   "cell_type": "code",
   "execution_count": null,
   "metadata": {},
   "outputs": [],
   "source": []
  }
 ],
 "metadata": {
  "kernelspec": {
   "display_name": "base",
   "language": "python",
   "name": "python3"
  },
  "language_info": {
   "codemirror_mode": {
    "name": "ipython",
    "version": 3
   },
   "file_extension": ".py",
   "mimetype": "text/x-python",
   "name": "python",
   "nbconvert_exporter": "python",
   "pygments_lexer": "ipython3",
   "version": "3.11.7"
  }
 },
 "nbformat": 4,
 "nbformat_minor": 2
}
